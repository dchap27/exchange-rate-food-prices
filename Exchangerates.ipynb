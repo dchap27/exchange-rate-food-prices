{
 "cells": [
  {
   "cell_type": "markdown",
   "id": "4318059a",
   "metadata": {},
   "source": [
    "## Exchange Rates"
   ]
  },
  {
   "cell_type": "markdown",
   "id": "2426ed3f",
   "metadata": {},
   "source": [
    "### Introduction\n",
    "\n",
    "There are two datasets for this project. A dataset of exchange rates was sourced from world bank via www.gapminder.org\n",
    "FREE DATA FROM WORLD BANK VIA GAPMINDER.ORG, CC-BY LICENSE. Another dataset of food prices in Nigeria was sourced from the Nigeria Bureau of Statistics via https://africaopendata.org/dataset/food-prices-for-nigeria.\n",
    "\n",
    "The dataset covers exchange rates of countries from 1960-2021. Our interest is in the Nigeria US Dollar exchange rates from 2017 - 2021.  The food prices datasets contains prices of food items from 2017 - 2021.\n",
    "\n",
    "#### Objective\n",
    "Our objective here is to answer the following questions.\n",
    "\n",
    "*   How does the exchange rate fair between 2017 and 2019?\n",
    "*   During the covid pandemic (2020), how does the exchange rate fair?\n",
    "*   Does this rate in 2017 and 2019 have correlation with food prices?\n",
    "*   How does this change in (iii) above compare with 2020-2021?\n",
    "*   What are the food items that are most hit with the exchange rate fluctuations\n",
    "*   What is the rate of increase in food prices with change in exchange rates\n",
    "*   What period has the highest increment?\n",
    "*   Is there a correlation between type of food items and exchange rate changes?"
   ]
  },
  {
   "cell_type": "markdown",
   "id": "c40fb433",
   "metadata": {},
   "source": []
  },
  {
   "cell_type": "code",
   "execution_count": 29,
   "id": "a52b58f5",
   "metadata": {},
   "outputs": [],
   "source": [
    "# Import libraries\n",
    "import pandas as pd\n",
    "import numpy as np\n",
    "import matplotlib.pyplot as plt"
   ]
  },
  {
   "cell_type": "code",
   "execution_count": 2,
   "id": "1e945852",
   "metadata": {},
   "outputs": [],
   "source": [
    "xchangerates = pd.read_csv('./datasets/exchangerates.csv')"
   ]
  },
  {
   "cell_type": "code",
   "execution_count": 70,
   "id": "c43b572a",
   "metadata": {},
   "outputs": [],
   "source": [
    "foodprices = pd.read_csv('./datasets/food_prices_ng.csv')"
   ]
  },
  {
   "cell_type": "markdown",
   "id": "6a69f8b9",
   "metadata": {},
   "source": [
    "### Data Inspection and Cleaning"
   ]
  },
  {
   "cell_type": "markdown",
   "id": "2a084dc2",
   "metadata": {},
   "source": [
    "Let us inspect the exchange rate dataset and extract that of Nigeria and clean the "
   ]
  },
  {
   "cell_type": "code",
   "execution_count": 3,
   "id": "03b5960d",
   "metadata": {},
   "outputs": [
    {
     "data": {
      "text/html": [
       "<div>\n",
       "<style scoped>\n",
       "    .dataframe tbody tr th:only-of-type {\n",
       "        vertical-align: middle;\n",
       "    }\n",
       "\n",
       "    .dataframe tbody tr th {\n",
       "        vertical-align: top;\n",
       "    }\n",
       "\n",
       "    .dataframe thead th {\n",
       "        text-align: right;\n",
       "    }\n",
       "</style>\n",
       "<table border=\"1\" class=\"dataframe\">\n",
       "  <thead>\n",
       "    <tr style=\"text-align: right;\">\n",
       "      <th></th>\n",
       "      <th>country</th>\n",
       "      <th>1960</th>\n",
       "      <th>1961</th>\n",
       "      <th>1962</th>\n",
       "      <th>1963</th>\n",
       "      <th>1964</th>\n",
       "      <th>1965</th>\n",
       "      <th>1966</th>\n",
       "      <th>1967</th>\n",
       "      <th>1968</th>\n",
       "      <th>...</th>\n",
       "      <th>2012</th>\n",
       "      <th>2013</th>\n",
       "      <th>2014</th>\n",
       "      <th>2015</th>\n",
       "      <th>2016</th>\n",
       "      <th>2017</th>\n",
       "      <th>2018</th>\n",
       "      <th>2019</th>\n",
       "      <th>2020</th>\n",
       "      <th>2021</th>\n",
       "    </tr>\n",
       "  </thead>\n",
       "  <tbody>\n",
       "    <tr>\n",
       "      <th>0</th>\n",
       "      <td>Aruba</td>\n",
       "      <td>NaN</td>\n",
       "      <td>NaN</td>\n",
       "      <td>NaN</td>\n",
       "      <td>NaN</td>\n",
       "      <td>NaN</td>\n",
       "      <td>NaN</td>\n",
       "      <td>NaN</td>\n",
       "      <td>NaN</td>\n",
       "      <td>NaN</td>\n",
       "      <td>...</td>\n",
       "      <td>1.79</td>\n",
       "      <td>1.79</td>\n",
       "      <td>1.79</td>\n",
       "      <td>1.79</td>\n",
       "      <td>1.79</td>\n",
       "      <td>1.79</td>\n",
       "      <td>1.79</td>\n",
       "      <td>1.79</td>\n",
       "      <td>1.79</td>\n",
       "      <td>1.79</td>\n",
       "    </tr>\n",
       "    <tr>\n",
       "      <th>1</th>\n",
       "      <td>Afghanistan</td>\n",
       "      <td>17.2</td>\n",
       "      <td>17.2</td>\n",
       "      <td>17.2</td>\n",
       "      <td>35.1</td>\n",
       "      <td>38.7</td>\n",
       "      <td>38.7</td>\n",
       "      <td>38.7</td>\n",
       "      <td>38.7</td>\n",
       "      <td>38.7</td>\n",
       "      <td>...</td>\n",
       "      <td>50.9</td>\n",
       "      <td>55.4</td>\n",
       "      <td>57.2</td>\n",
       "      <td>61.1</td>\n",
       "      <td>67.9</td>\n",
       "      <td>68</td>\n",
       "      <td>72.1</td>\n",
       "      <td>77.7</td>\n",
       "      <td>76.8</td>\n",
       "      <td>NaN</td>\n",
       "    </tr>\n",
       "    <tr>\n",
       "      <th>2</th>\n",
       "      <td>Angola</td>\n",
       "      <td>0</td>\n",
       "      <td>0</td>\n",
       "      <td>0</td>\n",
       "      <td>0</td>\n",
       "      <td>0</td>\n",
       "      <td>0</td>\n",
       "      <td>0</td>\n",
       "      <td>0</td>\n",
       "      <td>0</td>\n",
       "      <td>...</td>\n",
       "      <td>95.5</td>\n",
       "      <td>96.5</td>\n",
       "      <td>98.3</td>\n",
       "      <td>120</td>\n",
       "      <td>164</td>\n",
       "      <td>166</td>\n",
       "      <td>253</td>\n",
       "      <td>365</td>\n",
       "      <td>578</td>\n",
       "      <td>631</td>\n",
       "    </tr>\n",
       "    <tr>\n",
       "      <th>3</th>\n",
       "      <td>Albania</td>\n",
       "      <td>NaN</td>\n",
       "      <td>NaN</td>\n",
       "      <td>NaN</td>\n",
       "      <td>NaN</td>\n",
       "      <td>NaN</td>\n",
       "      <td>NaN</td>\n",
       "      <td>NaN</td>\n",
       "      <td>NaN</td>\n",
       "      <td>NaN</td>\n",
       "      <td>...</td>\n",
       "      <td>108</td>\n",
       "      <td>106</td>\n",
       "      <td>105</td>\n",
       "      <td>126</td>\n",
       "      <td>124</td>\n",
       "      <td>119</td>\n",
       "      <td>108</td>\n",
       "      <td>110</td>\n",
       "      <td>109</td>\n",
       "      <td>104</td>\n",
       "    </tr>\n",
       "    <tr>\n",
       "      <th>4</th>\n",
       "      <td>Andorra</td>\n",
       "      <td>NaN</td>\n",
       "      <td>NaN</td>\n",
       "      <td>NaN</td>\n",
       "      <td>NaN</td>\n",
       "      <td>NaN</td>\n",
       "      <td>NaN</td>\n",
       "      <td>NaN</td>\n",
       "      <td>NaN</td>\n",
       "      <td>NaN</td>\n",
       "      <td>...</td>\n",
       "      <td>0.778</td>\n",
       "      <td>0.753</td>\n",
       "      <td>0.753</td>\n",
       "      <td>0.901</td>\n",
       "      <td>0.903</td>\n",
       "      <td>0.885</td>\n",
       "      <td>0.847</td>\n",
       "      <td>0.893</td>\n",
       "      <td>0.875</td>\n",
       "      <td>0.845</td>\n",
       "    </tr>\n",
       "  </tbody>\n",
       "</table>\n",
       "<p>5 rows × 63 columns</p>\n",
       "</div>"
      ],
      "text/plain": [
       "       country  1960  1961  1962  1963  1964  1965  1966  1967  1968  ...  \\\n",
       "0        Aruba   NaN   NaN   NaN   NaN   NaN   NaN   NaN   NaN   NaN  ...   \n",
       "1  Afghanistan  17.2  17.2  17.2  35.1  38.7  38.7  38.7  38.7  38.7  ...   \n",
       "2       Angola     0     0     0     0     0     0     0     0     0  ...   \n",
       "3      Albania   NaN   NaN   NaN   NaN   NaN   NaN   NaN   NaN   NaN  ...   \n",
       "4      Andorra   NaN   NaN   NaN   NaN   NaN   NaN   NaN   NaN   NaN  ...   \n",
       "\n",
       "    2012   2013   2014   2015   2016   2017   2018   2019   2020   2021  \n",
       "0   1.79   1.79   1.79   1.79   1.79   1.79   1.79   1.79   1.79   1.79  \n",
       "1   50.9   55.4   57.2   61.1   67.9     68   72.1   77.7   76.8    NaN  \n",
       "2   95.5   96.5   98.3    120    164    166    253    365    578    631  \n",
       "3    108    106    105    126    124    119    108    110    109    104  \n",
       "4  0.778  0.753  0.753  0.901  0.903  0.885  0.847  0.893  0.875  0.845  \n",
       "\n",
       "[5 rows x 63 columns]"
      ]
     },
     "execution_count": 3,
     "metadata": {},
     "output_type": "execute_result"
    }
   ],
   "source": [
    "xchangerates.head()"
   ]
  },
  {
   "cell_type": "code",
   "execution_count": 4,
   "id": "06a2244a",
   "metadata": {},
   "outputs": [
    {
     "data": {
      "text/html": [
       "<div>\n",
       "<style scoped>\n",
       "    .dataframe tbody tr th:only-of-type {\n",
       "        vertical-align: middle;\n",
       "    }\n",
       "\n",
       "    .dataframe tbody tr th {\n",
       "        vertical-align: top;\n",
       "    }\n",
       "\n",
       "    .dataframe thead th {\n",
       "        text-align: right;\n",
       "    }\n",
       "</style>\n",
       "<table border=\"1\" class=\"dataframe\">\n",
       "  <thead>\n",
       "    <tr style=\"text-align: right;\">\n",
       "      <th></th>\n",
       "      <th>country</th>\n",
       "      <th>1960</th>\n",
       "      <th>1961</th>\n",
       "      <th>1962</th>\n",
       "      <th>1963</th>\n",
       "      <th>1964</th>\n",
       "      <th>1965</th>\n",
       "      <th>1966</th>\n",
       "      <th>1967</th>\n",
       "      <th>1968</th>\n",
       "      <th>...</th>\n",
       "      <th>2012</th>\n",
       "      <th>2013</th>\n",
       "      <th>2014</th>\n",
       "      <th>2015</th>\n",
       "      <th>2016</th>\n",
       "      <th>2017</th>\n",
       "      <th>2018</th>\n",
       "      <th>2019</th>\n",
       "      <th>2020</th>\n",
       "      <th>2021</th>\n",
       "    </tr>\n",
       "  </thead>\n",
       "  <tbody>\n",
       "    <tr>\n",
       "      <th>140</th>\n",
       "      <td>Nigeria</td>\n",
       "      <td>0.714</td>\n",
       "      <td>0.714</td>\n",
       "      <td>0.714</td>\n",
       "      <td>0.714</td>\n",
       "      <td>0.714</td>\n",
       "      <td>0.714</td>\n",
       "      <td>0.714</td>\n",
       "      <td>0.714</td>\n",
       "      <td>0.714</td>\n",
       "      <td>...</td>\n",
       "      <td>158</td>\n",
       "      <td>157</td>\n",
       "      <td>159</td>\n",
       "      <td>192</td>\n",
       "      <td>253</td>\n",
       "      <td>306</td>\n",
       "      <td>306</td>\n",
       "      <td>307</td>\n",
       "      <td>359</td>\n",
       "      <td>NaN</td>\n",
       "    </tr>\n",
       "  </tbody>\n",
       "</table>\n",
       "<p>1 rows × 63 columns</p>\n",
       "</div>"
      ],
      "text/plain": [
       "     country   1960   1961   1962   1963   1964   1965   1966   1967   1968  \\\n",
       "140  Nigeria  0.714  0.714  0.714  0.714  0.714  0.714  0.714  0.714  0.714   \n",
       "\n",
       "     ... 2012 2013 2014 2015 2016 2017 2018 2019 2020 2021  \n",
       "140  ...  158  157  159  192  253  306  306  307  359  NaN  \n",
       "\n",
       "[1 rows x 63 columns]"
      ]
     },
     "execution_count": 4,
     "metadata": {},
     "output_type": "execute_result"
    }
   ],
   "source": [
    "ngn_exchangerates = xchangerates[xchangerates['country'] == 'Nigeria']\n",
    "ngn_exchangerates"
   ]
  },
  {
   "cell_type": "code",
   "execution_count": 5,
   "id": "3da972ee",
   "metadata": {},
   "outputs": [
    {
     "data": {
      "text/plain": [
       "country    0\n",
       "1960       0\n",
       "1961       0\n",
       "1962       0\n",
       "1963       0\n",
       "          ..\n",
       "2017       0\n",
       "2018       0\n",
       "2019       0\n",
       "2020       0\n",
       "2021       1\n",
       "Length: 63, dtype: int64"
      ]
     },
     "execution_count": 5,
     "metadata": {},
     "output_type": "execute_result"
    }
   ],
   "source": [
    "ngn_exchangerates.isna().sum()"
   ]
  },
  {
   "cell_type": "markdown",
   "id": "156d0d25",
   "metadata": {},
   "source": [
    "The official exchange rate for 2021 was missing. We checked the official website of Central bank of Nigeria to retrieve this missing data for 2021. We averaged the monthly rates for 2021 and arrived at 477.82.\n",
    "so, we will impute this value as the missing value."
   ]
  },
  {
   "cell_type": "code",
   "execution_count": 11,
   "id": "44878a86",
   "metadata": {},
   "outputs": [],
   "source": [
    "ngn_exchangerates = ngn_exchangerates.fillna(477.82)"
   ]
  },
  {
   "cell_type": "code",
   "execution_count": 12,
   "id": "b99a7a85",
   "metadata": {},
   "outputs": [
    {
     "data": {
      "text/html": [
       "<div>\n",
       "<style scoped>\n",
       "    .dataframe tbody tr th:only-of-type {\n",
       "        vertical-align: middle;\n",
       "    }\n",
       "\n",
       "    .dataframe tbody tr th {\n",
       "        vertical-align: top;\n",
       "    }\n",
       "\n",
       "    .dataframe thead th {\n",
       "        text-align: right;\n",
       "    }\n",
       "</style>\n",
       "<table border=\"1\" class=\"dataframe\">\n",
       "  <thead>\n",
       "    <tr style=\"text-align: right;\">\n",
       "      <th></th>\n",
       "      <th>country</th>\n",
       "      <th>1960</th>\n",
       "      <th>1961</th>\n",
       "      <th>1962</th>\n",
       "      <th>1963</th>\n",
       "      <th>1964</th>\n",
       "      <th>1965</th>\n",
       "      <th>1966</th>\n",
       "      <th>1967</th>\n",
       "      <th>1968</th>\n",
       "      <th>...</th>\n",
       "      <th>2012</th>\n",
       "      <th>2013</th>\n",
       "      <th>2014</th>\n",
       "      <th>2015</th>\n",
       "      <th>2016</th>\n",
       "      <th>2017</th>\n",
       "      <th>2018</th>\n",
       "      <th>2019</th>\n",
       "      <th>2020</th>\n",
       "      <th>2021</th>\n",
       "    </tr>\n",
       "  </thead>\n",
       "  <tbody>\n",
       "    <tr>\n",
       "      <th>140</th>\n",
       "      <td>Nigeria</td>\n",
       "      <td>0.714</td>\n",
       "      <td>0.714</td>\n",
       "      <td>0.714</td>\n",
       "      <td>0.714</td>\n",
       "      <td>0.714</td>\n",
       "      <td>0.714</td>\n",
       "      <td>0.714</td>\n",
       "      <td>0.714</td>\n",
       "      <td>0.714</td>\n",
       "      <td>...</td>\n",
       "      <td>158</td>\n",
       "      <td>157</td>\n",
       "      <td>159</td>\n",
       "      <td>192</td>\n",
       "      <td>253</td>\n",
       "      <td>306</td>\n",
       "      <td>306</td>\n",
       "      <td>307</td>\n",
       "      <td>359</td>\n",
       "      <td>477.82</td>\n",
       "    </tr>\n",
       "  </tbody>\n",
       "</table>\n",
       "<p>1 rows × 63 columns</p>\n",
       "</div>"
      ],
      "text/plain": [
       "     country   1960   1961   1962   1963   1964   1965   1966   1967   1968  \\\n",
       "140  Nigeria  0.714  0.714  0.714  0.714  0.714  0.714  0.714  0.714  0.714   \n",
       "\n",
       "     ... 2012 2013 2014 2015 2016 2017 2018 2019 2020    2021  \n",
       "140  ...  158  157  159  192  253  306  306  307  359  477.82  \n",
       "\n",
       "[1 rows x 63 columns]"
      ]
     },
     "execution_count": 12,
     "metadata": {},
     "output_type": "execute_result"
    }
   ],
   "source": [
    "ngn_exchangerates"
   ]
  },
  {
   "cell_type": "code",
   "execution_count": 34,
   "id": "8a8877c5",
   "metadata": {},
   "outputs": [],
   "source": [
    "ngn_T = ngn_exchangerates.T"
   ]
  },
  {
   "cell_type": "code",
   "execution_count": 35,
   "id": "66fa4fd7",
   "metadata": {},
   "outputs": [],
   "source": [
    "ngn_T.columns = ['USD_to_NGN',]"
   ]
  },
  {
   "cell_type": "code",
   "execution_count": 58,
   "id": "583119bd",
   "metadata": {},
   "outputs": [],
   "source": [
    "ngn_T['year'] = ngn_T.index"
   ]
  },
  {
   "cell_type": "code",
   "execution_count": 59,
   "id": "72d3ab51",
   "metadata": {},
   "outputs": [],
   "source": [
    "ngn_rates = ngn_T[1:]"
   ]
  },
  {
   "cell_type": "code",
   "execution_count": 60,
   "id": "7eb8922a",
   "metadata": {},
   "outputs": [],
   "source": [
    "ngn_rates.index = range(62)"
   ]
  },
  {
   "cell_type": "code",
   "execution_count": 61,
   "id": "e9732a6f",
   "metadata": {},
   "outputs": [
    {
     "data": {
      "text/html": [
       "<div>\n",
       "<style scoped>\n",
       "    .dataframe tbody tr th:only-of-type {\n",
       "        vertical-align: middle;\n",
       "    }\n",
       "\n",
       "    .dataframe tbody tr th {\n",
       "        vertical-align: top;\n",
       "    }\n",
       "\n",
       "    .dataframe thead th {\n",
       "        text-align: right;\n",
       "    }\n",
       "</style>\n",
       "<table border=\"1\" class=\"dataframe\">\n",
       "  <thead>\n",
       "    <tr style=\"text-align: right;\">\n",
       "      <th></th>\n",
       "      <th>USD_to_NGN</th>\n",
       "      <th>year</th>\n",
       "    </tr>\n",
       "  </thead>\n",
       "  <tbody>\n",
       "    <tr>\n",
       "      <th>0</th>\n",
       "      <td>0.714</td>\n",
       "      <td>1960</td>\n",
       "    </tr>\n",
       "    <tr>\n",
       "      <th>1</th>\n",
       "      <td>0.714</td>\n",
       "      <td>1961</td>\n",
       "    </tr>\n",
       "    <tr>\n",
       "      <th>2</th>\n",
       "      <td>0.714</td>\n",
       "      <td>1962</td>\n",
       "    </tr>\n",
       "    <tr>\n",
       "      <th>3</th>\n",
       "      <td>0.714</td>\n",
       "      <td>1963</td>\n",
       "    </tr>\n",
       "    <tr>\n",
       "      <th>4</th>\n",
       "      <td>0.714</td>\n",
       "      <td>1964</td>\n",
       "    </tr>\n",
       "    <tr>\n",
       "      <th>...</th>\n",
       "      <td>...</td>\n",
       "      <td>...</td>\n",
       "    </tr>\n",
       "    <tr>\n",
       "      <th>57</th>\n",
       "      <td>306</td>\n",
       "      <td>2017</td>\n",
       "    </tr>\n",
       "    <tr>\n",
       "      <th>58</th>\n",
       "      <td>306</td>\n",
       "      <td>2018</td>\n",
       "    </tr>\n",
       "    <tr>\n",
       "      <th>59</th>\n",
       "      <td>307</td>\n",
       "      <td>2019</td>\n",
       "    </tr>\n",
       "    <tr>\n",
       "      <th>60</th>\n",
       "      <td>359</td>\n",
       "      <td>2020</td>\n",
       "    </tr>\n",
       "    <tr>\n",
       "      <th>61</th>\n",
       "      <td>477.82</td>\n",
       "      <td>2021</td>\n",
       "    </tr>\n",
       "  </tbody>\n",
       "</table>\n",
       "<p>62 rows × 2 columns</p>\n",
       "</div>"
      ],
      "text/plain": [
       "   USD_to_NGN  year\n",
       "0       0.714  1960\n",
       "1       0.714  1961\n",
       "2       0.714  1962\n",
       "3       0.714  1963\n",
       "4       0.714  1964\n",
       "..        ...   ...\n",
       "57        306  2017\n",
       "58        306  2018\n",
       "59        307  2019\n",
       "60        359  2020\n",
       "61     477.82  2021\n",
       "\n",
       "[62 rows x 2 columns]"
      ]
     },
     "execution_count": 61,
     "metadata": {},
     "output_type": "execute_result"
    }
   ],
   "source": [
    "ngn_rates"
   ]
  },
  {
   "cell_type": "code",
   "execution_count": 62,
   "id": "a42aada5",
   "metadata": {},
   "outputs": [
    {
     "name": "stdout",
     "output_type": "stream",
     "text": [
      "<class 'pandas.core.frame.DataFrame'>\n",
      "RangeIndex: 62 entries, 0 to 61\n",
      "Data columns (total 2 columns):\n",
      " #   Column      Non-Null Count  Dtype \n",
      "---  ------      --------------  ----- \n",
      " 0   USD_to_NGN  62 non-null     object\n",
      " 1   year        62 non-null     object\n",
      "dtypes: object(2)\n",
      "memory usage: 1.1+ KB\n"
     ]
    }
   ],
   "source": [
    "ngn_rates.info()"
   ]
  },
  {
   "cell_type": "code",
   "execution_count": 63,
   "id": "b68c9ff2",
   "metadata": {},
   "outputs": [
    {
     "name": "stderr",
     "output_type": "stream",
     "text": [
      "C:\\Users\\Dayma\\AppData\\Local\\Temp\\ipykernel_23104\\1940193812.py:1: SettingWithCopyWarning: \n",
      "A value is trying to be set on a copy of a slice from a DataFrame.\n",
      "Try using .loc[row_indexer,col_indexer] = value instead\n",
      "\n",
      "See the caveats in the documentation: https://pandas.pydata.org/pandas-docs/stable/user_guide/indexing.html#returning-a-view-versus-a-copy\n",
      "  ngn_rates['USD_to_NGN'] = ngn_rates['USD_to_NGN'].astype(float)\n"
     ]
    }
   ],
   "source": [
    "ngn_rates['USD_to_NGN'] = ngn_rates['USD_to_NGN'].astype(float)"
   ]
  },
  {
   "cell_type": "code",
   "execution_count": 64,
   "id": "95d63eb4",
   "metadata": {},
   "outputs": [
    {
     "name": "stderr",
     "output_type": "stream",
     "text": [
      "C:\\Users\\Dayma\\AppData\\Local\\Temp\\ipykernel_23104\\148577413.py:1: SettingWithCopyWarning: \n",
      "A value is trying to be set on a copy of a slice from a DataFrame.\n",
      "Try using .loc[row_indexer,col_indexer] = value instead\n",
      "\n",
      "See the caveats in the documentation: https://pandas.pydata.org/pandas-docs/stable/user_guide/indexing.html#returning-a-view-versus-a-copy\n",
      "  ngn_rates['year'] = pd.to_datetime(ngn_rates['year'])\n"
     ]
    }
   ],
   "source": [
    "ngn_rates['year'] = pd.to_datetime(ngn_rates['year'])"
   ]
  },
  {
   "cell_type": "code",
   "execution_count": 66,
   "id": "0a60f4c8",
   "metadata": {},
   "outputs": [
    {
     "name": "stderr",
     "output_type": "stream",
     "text": [
      "C:\\Users\\Dayma\\AppData\\Local\\Temp\\ipykernel_23104\\26034634.py:1: SettingWithCopyWarning: \n",
      "A value is trying to be set on a copy of a slice from a DataFrame.\n",
      "Try using .loc[row_indexer,col_indexer] = value instead\n",
      "\n",
      "See the caveats in the documentation: https://pandas.pydata.org/pandas-docs/stable/user_guide/indexing.html#returning-a-view-versus-a-copy\n",
      "  ngn_rates['period'] = ngn_rates['year'].dt.year\n"
     ]
    }
   ],
   "source": [
    "ngn_rates['period'] = ngn_rates['year'].dt.year"
   ]
  },
  {
   "cell_type": "code",
   "execution_count": 67,
   "id": "315170c7",
   "metadata": {},
   "outputs": [
    {
     "data": {
      "text/html": [
       "<div>\n",
       "<style scoped>\n",
       "    .dataframe tbody tr th:only-of-type {\n",
       "        vertical-align: middle;\n",
       "    }\n",
       "\n",
       "    .dataframe tbody tr th {\n",
       "        vertical-align: top;\n",
       "    }\n",
       "\n",
       "    .dataframe thead th {\n",
       "        text-align: right;\n",
       "    }\n",
       "</style>\n",
       "<table border=\"1\" class=\"dataframe\">\n",
       "  <thead>\n",
       "    <tr style=\"text-align: right;\">\n",
       "      <th></th>\n",
       "      <th>USD_to_NGN</th>\n",
       "      <th>year</th>\n",
       "      <th>period</th>\n",
       "    </tr>\n",
       "  </thead>\n",
       "  <tbody>\n",
       "    <tr>\n",
       "      <th>0</th>\n",
       "      <td>0.714</td>\n",
       "      <td>1960-01-01</td>\n",
       "      <td>1960</td>\n",
       "    </tr>\n",
       "    <tr>\n",
       "      <th>1</th>\n",
       "      <td>0.714</td>\n",
       "      <td>1961-01-01</td>\n",
       "      <td>1961</td>\n",
       "    </tr>\n",
       "    <tr>\n",
       "      <th>2</th>\n",
       "      <td>0.714</td>\n",
       "      <td>1962-01-01</td>\n",
       "      <td>1962</td>\n",
       "    </tr>\n",
       "    <tr>\n",
       "      <th>3</th>\n",
       "      <td>0.714</td>\n",
       "      <td>1963-01-01</td>\n",
       "      <td>1963</td>\n",
       "    </tr>\n",
       "    <tr>\n",
       "      <th>4</th>\n",
       "      <td>0.714</td>\n",
       "      <td>1964-01-01</td>\n",
       "      <td>1964</td>\n",
       "    </tr>\n",
       "    <tr>\n",
       "      <th>...</th>\n",
       "      <td>...</td>\n",
       "      <td>...</td>\n",
       "      <td>...</td>\n",
       "    </tr>\n",
       "    <tr>\n",
       "      <th>57</th>\n",
       "      <td>306.000</td>\n",
       "      <td>2017-01-01</td>\n",
       "      <td>2017</td>\n",
       "    </tr>\n",
       "    <tr>\n",
       "      <th>58</th>\n",
       "      <td>306.000</td>\n",
       "      <td>2018-01-01</td>\n",
       "      <td>2018</td>\n",
       "    </tr>\n",
       "    <tr>\n",
       "      <th>59</th>\n",
       "      <td>307.000</td>\n",
       "      <td>2019-01-01</td>\n",
       "      <td>2019</td>\n",
       "    </tr>\n",
       "    <tr>\n",
       "      <th>60</th>\n",
       "      <td>359.000</td>\n",
       "      <td>2020-01-01</td>\n",
       "      <td>2020</td>\n",
       "    </tr>\n",
       "    <tr>\n",
       "      <th>61</th>\n",
       "      <td>477.820</td>\n",
       "      <td>2021-01-01</td>\n",
       "      <td>2021</td>\n",
       "    </tr>\n",
       "  </tbody>\n",
       "</table>\n",
       "<p>62 rows × 3 columns</p>\n",
       "</div>"
      ],
      "text/plain": [
       "    USD_to_NGN       year  period\n",
       "0        0.714 1960-01-01    1960\n",
       "1        0.714 1961-01-01    1961\n",
       "2        0.714 1962-01-01    1962\n",
       "3        0.714 1963-01-01    1963\n",
       "4        0.714 1964-01-01    1964\n",
       "..         ...        ...     ...\n",
       "57     306.000 2017-01-01    2017\n",
       "58     306.000 2018-01-01    2018\n",
       "59     307.000 2019-01-01    2019\n",
       "60     359.000 2020-01-01    2020\n",
       "61     477.820 2021-01-01    2021\n",
       "\n",
       "[62 rows x 3 columns]"
      ]
     },
     "execution_count": 67,
     "metadata": {},
     "output_type": "execute_result"
    }
   ],
   "source": [
    "ngn_rates"
   ]
  },
  {
   "cell_type": "code",
   "execution_count": 68,
   "id": "0bf7a7de",
   "metadata": {},
   "outputs": [
    {
     "data": {
      "image/png": "[encoded data removed]",
      "text/plain": [
       "<Figure size 432x288 with 1 Axes>"
      ]
     },
     "metadata": {
      "needs_background": "light"
     },
     "output_type": "display_data"
    }
   ],
   "source": [
    "plt.plot(ngn_rates['period'], ngn_rates['USD_to_NGN'])\n",
    "plt.show()"
   ]
  },
  {
   "cell_type": "code",
   "execution_count": 69,
   "id": "77366f1c",
   "metadata": {},
   "outputs": [
    {
     "data": {
      "image/png": "[encoded data removed]",
      "text/plain": [
       "<Figure size 432x288 with 1 Axes>"
      ]
     },
     "metadata": {
      "needs_background": "light"
     },
     "output_type": "display_data"
    }
   ],
   "source": [
    "plt.plot(ngn_rates['period'][-5:], ngn_rates['USD_to_NGN'][-5:])\n",
    "plt.show()"
   ]
  },
  {
   "cell_type": "markdown",
   "id": "aa97a6fb",
   "metadata": {},
   "source": [
    "#### Research questions\n",
    "* i.    How does the exchange rate fair between 2017 and 2019?\n",
    "* ii.   During the covid pandemic (2020), how does the exchange rate fair?\n",
    "* iii.  Does this rate in 2017 and 2019 have correlation with food prices?\n",
    "* iv.   How does this change in (iii) above compare with 2020-2021?\n",
    "* v.    What are the food items that are most hit with the exchange rate fluctuations\n",
    "* vi.   What is the rate of increase in food prices with change in exchange rates\n",
    "* vii.  What period has the highest increment?\n",
    "* viii. Is there a correlation between type of food items and exchange rate changes?"
   ]
  },
  {
   "cell_type": "code",
   "execution_count": null,
   "id": "cb5ceb7a",
   "metadata": {},
   "outputs": [],
   "source": []
  }
 ],
 "metadata": {
  "kernelspec": {
   "display_name": "Python 3 (ipykernel)",
   "language": "python",
   "name": "python3"
  },
  "language_info": {
   "codemirror_mode": {
    "name": "ipython",
    "version": 3
   },
   "file_extension": ".py",
   "mimetype": "text/x-python",
   "name": "python",
   "nbconvert_exporter": "python",
   "pygments_lexer": "ipython3",
   "version": "3.9.12"
  }
 },
 "nbformat": 4,
 "nbformat_minor": 5
}
