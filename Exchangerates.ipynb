{
 "cells": [
  {
   "cell_type": "markdown",
   "id": "4318059a",
   "metadata": {},
   "source": [
    "## Exchange Rates and Food Prices"
   ]
  },
  {
   "cell_type": "markdown",
   "id": "2426ed3f",
   "metadata": {},
   "source": [
    "### Introduction\n",
    "\n",
    "There are two datasets for this project. A dataset of exchange rates was sourced from Central Bank of Nigeria via https://www.cbn.gov.ng/rates/exrate.asp Another dataset of food prices in Nigeria was sourced from the Nigeria Bureau of Statistics via https://africaopendata.org/dataset/food-prices-for-nigeria.\n",
    "\n",
    "The dataset covers exchange rates of countries from 2004-2021. Our interest is in the Nigeria US Dollar exchange rates from 2017 - 2021.  The food prices datasets contains prices of some selected food items from 2017 - 2021.\n",
    "\n",
    "#### Objective\n",
    "Our objective here is to answer the following questions.\n",
    "\n",
    "*   What is the trend of the USD/NGN exchange rate between 2017 and 2019?\n",
    "*   During the covid pandemic period (2020), how does the exchange rate fair?\n",
    "*   What is the correlation between the exchange rates and food prices?\n",
    "*   How does this change in (iii) above compare with 2020-2021?\n",
    "*   Which food items are most correlated with the exchange rate fluctuations (if any)?\n",
    "*   What is the rate of increase in food prices with change in exchange rates\n",
    "*   What period has the highest increment in food prices?"
   ]
  },
  {
   "cell_type": "code",
   "execution_count": 1,
   "id": "cb5ceb7a",
   "metadata": {},
   "outputs": [],
   "source": [
    "# Import libraries\n",
    "import pandas as pd\n",
    "import numpy as np\n",
    "import matplotlib.pyplot as plt\n",
    "from datetime import datetime"
   ]
  },
  {
   "cell_type": "code",
   "execution_count": 2,
   "id": "d038dc94",
   "metadata": {},
   "outputs": [],
   "source": [
    "# Load the datasets\n",
    "monthly_exc_rates = pd.read_csv('./datasets/MonthlyAverageExhRateNG.csv')"
   ]
  },
  {
   "cell_type": "code",
   "execution_count": 3,
   "id": "3179088f",
   "metadata": {},
   "outputs": [],
   "source": [
    "foodprices = pd.read_csv('./datasets/food_prices_ng.csv')"
   ]
  },
  {
   "cell_type": "code",
   "execution_count": null,
   "id": "a2f14ac3",
   "metadata": {},
   "outputs": [],
   "source": []
  }
 ],
 "metadata": {
  "kernelspec": {
   "display_name": "Python 3 (ipykernel)",
   "language": "python",
   "name": "python3"
  },
  "language_info": {
   "codemirror_mode": {
    "name": "ipython",
    "version": 3
   },
   "file_extension": ".py",
   "mimetype": "text/x-python",
   "name": "python",
   "nbconvert_exporter": "python",
   "pygments_lexer": "ipython3",
   "version": "3.9.12"
  }
 },
 "nbformat": 4,
 "nbformat_minor": 5
}
